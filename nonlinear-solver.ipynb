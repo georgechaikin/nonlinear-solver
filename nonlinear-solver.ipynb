{
 "cells": [
  {
   "cell_type": "code",
   "execution_count": 2,
   "metadata": {},
   "outputs": [],
   "source": [
    "import numpy as np\n",
    "import tensorflow as tf\n",
    "import matplotlib.pyplot as plt\n",
    "import sympy as sp\n"
   ]
  },
  {
   "cell_type": "code",
   "execution_count": 74,
   "metadata": {},
   "outputs": [],
   "source": [
    "x_1 = sp.Symbol('x_1')\n",
    "x_2 = sp.Symbol('x_2')"
   ]
  },
  {
   "cell_type": "markdown",
   "metadata": {},
   "source": [
    "\u001a\n",
    "sin(2x − y) − 1.2x = 0.4;\n",
    "0.8x2 + 1.5y2 = 1 ."
   ]
  },
  {
   "cell_type": "code",
   "execution_count": 75,
   "metadata": {},
   "outputs": [
    {
     "data": {
      "text/latex": [
       "$\\displaystyle \\left[\\begin{matrix}- 1.2 x_{1} + \\sin{\\left(2 x_{1} - x_{2} \\right)} - 0.4\\\\0.8 x_{1}^{2} + 1.5 x_{2}^{2} - 1\\end{matrix}\\right]$"
      ],
      "text/plain": [
       "Matrix([\n",
       "[-1.2*x_1 + sin(2*x_1 - x_2) - 0.4],\n",
       "[      0.8*x_1**2 + 1.5*x_2**2 - 1]])"
      ]
     },
     "execution_count": 75,
     "metadata": {},
     "output_type": "execute_result"
    }
   ],
   "source": [
    "F = sp.Matrix([sp.sin(2*x_1-x_2) - 1.2*x_1 - 0.4, 0.8*x_1**2 + 1.5*x_2**2-1])\n",
    "F"
   ]
  },
  {
   "cell_type": "code",
   "execution_count": 76,
   "metadata": {},
   "outputs": [
    {
     "data": {
      "text/plain": [
       "array([[-1.6],\n",
       "       [ 5.8]])"
      ]
     },
     "execution_count": 76,
     "metadata": {},
     "output_type": "execute_result"
    }
   ],
   "source": [
    "sp.lambdify([x_1, x_2], F)(1,2)"
   ]
  },
  {
   "cell_type": "code",
   "execution_count": 77,
   "metadata": {
    "scrolled": true
   },
   "outputs": [
    {
     "data": {
      "text/plain": [
       "array([[ 0.71067298, -0.95533649],\n",
       "       [ 1.6       ,  6.9       ]])"
      ]
     },
     "execution_count": 77,
     "metadata": {},
     "output_type": "execute_result"
    }
   ],
   "source": [
    "dF_dx = F.jacobian([x_1,x_2])\n",
    "sp.lambdify([x_1, x_2], dF_dx, 'numpy')(*np.array([1.0,2.3]))"
   ]
  },
  {
   "cell_type": "code",
   "execution_count": 9,
   "metadata": {},
   "outputs": [
    {
     "data": {
      "text/latex": [
       "$\\displaystyle \\left[\\begin{matrix}- 1.2 x_{1} + \\sin{\\left(2 x_{1} - x_{2} \\right)} - 0.4\\\\0.8 x_{1}^{2} + 1.5 x_{2}^{2} - 1\\end{matrix}\\right]$"
      ],
      "text/plain": [
       "Matrix([\n",
       "[-1.2*x_1 + sin(2*x_1 - x_2) - 0.4],\n",
       "[      0.8*x_1**2 + 1.5*x_2**2 - 1]])"
      ]
     },
     "execution_count": 9,
     "metadata": {},
     "output_type": "execute_result"
    }
   ],
   "source": [
    "F"
   ]
  },
  {
   "cell_type": "code",
   "execution_count": 143,
   "metadata": {},
   "outputs": [],
   "source": [
    "def newton_solve(F: sp.Matrix, x0: np.array, tol, symbol_x, history_save = True):\n",
    "    '''\n",
    "    System of nonlinear equations solver (Newton method)\n",
    "    \n",
    "    Args:\n",
    "        F (sp.Matrix): System of nonlinear equations F(x)=0\n",
    "        x0 (np.array): first point in the iteration\n",
    "        tol (float): tolerance\n",
    "        symbol_x (list): list of symbol variables\n",
    "    '''    \n",
    "#     Create history array\n",
    "    if history_save:\n",
    "        history = [x0]\n",
    "#     Define numerical F\n",
    "    numerical_F = sp.lambdify(symbol_x, F)\n",
    "#     Define symbol jacobian and numerical jacobian\n",
    "    dF_dx = F.jacobian(symbol_x)\n",
    "    numerical_dF_dx = sp.lambdify(symbol_x, dF_dx, 'numpy')\n",
    "#     Solve the system of linear equations dF_dx(xk) *dxk = -F(xk) in a loop\n",
    "    k=0\n",
    "    while True:\n",
    "        dx1 = np.linalg.solve(numerical_dF_dx(*x0), -numerical_F(*x0))\n",
    "        dx1 = np.squeeze(dx1)\n",
    "#         x1 = np.sum([x0, dx1], axis = 0)\n",
    "        x1 = x0+dx1\n",
    "#     Add value to history list\n",
    "        if history_save:\n",
    "            history.append(x1)\n",
    "        if np.linalg.norm(x1 - x0)<=tol:\n",
    "            print(f'k={k}: norm ||x_k+1 - x_k||<={tol}')\n",
    "            return x1 if not history_save else x1, history\n",
    "        k+=1\n",
    "        x0 = x1\n",
    "\n",
    "def merge_arrays(x_0, x_1):\n",
    "    result = np.tile(x_1, (x_1.shape[0], 1))\n",
    "    np.fill_diagonal(result, x_0)\n",
    "    return result\n",
    "\n",
    "def secant_solver(F: sp.Matrix, x0: np.array, x1: np.array, tol, symbol_x, history_save = True):\n",
    "#     Create history array\n",
    "    if history_save:\n",
    "        history = [x0, x1]\n",
    "        \n",
    "#     Define numerical F\n",
    "    numerical_F = sp.lambdify(symbol_x, F)\n",
    "    \n",
    "    k = 0\n",
    "    while True:\n",
    "        merged_matrix = merge_arrays(x0, x1)\n",
    "        approx_jacobian = (np.squeeze(numerical_F(*merged_matrix.T)) - numerical_F(*x1))\n",
    "        approx_jacobian/=(x0-x1)[:,None]\n",
    "        dx2 = np.linalg.solve(approx_jacobian, -numerical_F(*x1))\n",
    "        dx2 = np.squeeze(dx2)\n",
    "        x2 = x1 + dx2\n",
    "        \n",
    "        if history_save:\n",
    "            history.append(x2)\n",
    "        if np.linalg.norm(x2 - x1)<=tol:\n",
    "            print(f'k={k}: norm ||x_k+1 - x_k||<={tol}')\n",
    "            return x2 if not history_save else x2, history\n",
    "        k+=1\n",
    "        x0 = x1\n",
    "        x1 = x2\n",
    "    "
   ]
  },
  {
   "cell_type": "code",
   "execution_count": 144,
   "metadata": {},
   "outputs": [
    {
     "name": "stdout",
     "output_type": "stream",
     "text": [
      "k=3: norm ||x_k+1 - x_k||<=0.0001\n"
     ]
    },
    {
     "data": {
      "text/plain": [
       "[array([ 0.4 , -0.75]),\n",
       " array([ 0.5031025 , -0.73322862]),\n",
       " array([ 0.49141694, -0.73344703]),\n",
       " array([ 0.49123799, -0.7334613 ]),\n",
       " array([ 0.49123795, -0.7334613 ])]"
      ]
     },
     "execution_count": 144,
     "metadata": {},
     "output_type": "execute_result"
    }
   ],
   "source": [
    "newton_x, newton_history = newton_solve(F, np.array([0.4, -0.75]), 0.0001, [x_1, x_2])\n",
    "newton_history"
   ]
  },
  {
   "cell_type": "code",
   "execution_count": 145,
   "metadata": {},
   "outputs": [
    {
     "name": "stdout",
     "output_type": "stream",
     "text": [
      "k=6: norm ||x_k+1 - x_k||<=0.0001\n"
     ]
    },
    {
     "data": {
      "text/plain": [
       "(array([ 0.49124177, -0.73345543]),\n",
       " [array([ 0.4 , -0.75]),\n",
       "  array([ 0.43421855, -0.7445741 ]),\n",
       "  array([ 0.49906948, -0.6306651 ]),\n",
       "  array([ 0.481169 , -0.7333115]),\n",
       "  array([ 0.49018675, -0.73669829]),\n",
       "  array([ 0.49084864, -0.73445636]),\n",
       "  array([ 0.49144606, -0.73353937]),\n",
       "  array([ 0.49124614, -0.73343354]),\n",
       "  array([ 0.49124177, -0.73345543])])"
      ]
     },
     "execution_count": 145,
     "metadata": {},
     "output_type": "execute_result"
    }
   ],
   "source": [
    "x0 = np.array([0.4, -0.75])\n",
    "dx = np.random.uniform(low =-0.1 ,high = 0.1, size = 2)\n",
    "x1 = x0 + dx\n",
    "# np.array([0.4, -0.75]), np.array([0.49123795, -0.7334613])\n",
    "secant_x, secant_history = secant_solver(F,x0, x1, 0.0001, [x_1, x_2])\n",
    "secant_x, secant_history"
   ]
  },
  {
   "cell_type": "code",
   "execution_count": null,
   "metadata": {},
   "outputs": [],
   "source": []
  }
 ],
 "metadata": {
  "kernelspec": {
   "display_name": "Python 3",
   "language": "python",
   "name": "python3"
  },
  "language_info": {
   "codemirror_mode": {
    "name": "ipython",
    "version": 3
   },
   "file_extension": ".py",
   "mimetype": "text/x-python",
   "name": "python",
   "nbconvert_exporter": "python",
   "pygments_lexer": "ipython3",
   "version": "3.8.1"
  }
 },
 "nbformat": 4,
 "nbformat_minor": 4
}
