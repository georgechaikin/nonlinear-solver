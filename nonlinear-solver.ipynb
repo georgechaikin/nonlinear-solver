{
 "cells": [
  {
   "cell_type": "code",
   "execution_count": 10,
   "metadata": {},
   "outputs": [],
   "source": [
    "import numpy as np\n",
    "import tensorflow as tf\n",
    "import matplotlib.pyplot as plt\n",
    "import sympy as sp\n"
   ]
  },
  {
   "cell_type": "code",
   "execution_count": 35,
   "metadata": {},
   "outputs": [],
   "source": [
    "x1 = sp.Symbol('x_1')\n",
    "x2 = sp.Symbol('x_2')"
   ]
  },
  {
   "cell_type": "markdown",
   "metadata": {},
   "source": [
    "\u001a\n",
    "sin(2x − y) − 1.2x = 0.4;\n",
    "0.8x2 + 1.5y2 = 1 ."
   ]
  },
  {
   "cell_type": "code",
   "execution_count": 76,
   "metadata": {},
   "outputs": [
    {
     "data": {
      "text/latex": [
       "$\\displaystyle \\left[\\begin{matrix}- 1.2 x_{1} + \\sin{\\left(2 x_{1} - x_{2} \\right)} - 0.4\\\\0.8 x_{1}^{2} + 1.5 x_{2}^{2} - 1\\end{matrix}\\right]$"
      ],
      "text/plain": [
       "Matrix([\n",
       "[-1.2*x_1 + sin(2*x_1 - x_2) - 0.4],\n",
       "[      0.8*x_1**2 + 1.5*x_2**2 - 1]])"
      ]
     },
     "execution_count": 76,
     "metadata": {},
     "output_type": "execute_result"
    }
   ],
   "source": [
    "F = sp.Matrix([sp.sin(2*x1-x2) - 1.2*x1 - 0.4, 0.8*x1**2 + 1.5*x2**2-1])\n",
    "F"
   ]
  },
  {
   "cell_type": "code",
   "execution_count": 79,
   "metadata": {},
   "outputs": [
    {
     "data": {
      "text/plain": [
       "(2, 1)"
      ]
     },
     "execution_count": 79,
     "metadata": {},
     "output_type": "execute_result"
    }
   ],
   "source": [
    "sp.lambdify([x1, x2], F)(1,2)."
   ]
  },
  {
   "cell_type": "code",
   "execution_count": 68,
   "metadata": {
    "scrolled": true
   },
   "outputs": [
    {
     "data": {
      "text/plain": [
       "array([[ 0.71067298, -0.95533649],\n",
       "       [ 1.6       ,  6.9       ]])"
      ]
     },
     "execution_count": 68,
     "metadata": {},
     "output_type": "execute_result"
    }
   ],
   "source": [
    "dF_dx = F.jacobian([x1,x2])\n",
    "sp.lambdify([x1, x2], dF_dx, 'numpy')(*np.array([1.0,2.3]))"
   ]
  },
  {
   "cell_type": "code",
   "execution_count": 111,
   "metadata": {},
   "outputs": [],
   "source": [
    "def newton_solve(F: sp.Matrix, x0: np.array, tol, symbol_x, history_save = True):\n",
    "    '''\n",
    "    System of nonlinear equations solver (Newton method)\n",
    "    \n",
    "    Args:\n",
    "        F (sp.Matrix): System of nonlinear equations F(x)=0\n",
    "        x0 (np.array): first point in the iteration\n",
    "        tol (float): tolerance\n",
    "        symbol_x (list): list of symbol variables\n",
    "    '''    \n",
    "#     Create history array\n",
    "    if history_save:\n",
    "        history = [x0]\n",
    "#     Define numerical F\n",
    "    numerical_F = sp.lambdify(symbol_x, F)\n",
    "#     Define symbol jacobian and numerical jacobian\n",
    "    dF_dx = F.jacobian(symbol_x)\n",
    "    numerical_dF_dx = sp.lambdify(symbol_x, dF_dx, 'numpy')\n",
    "#     Solve the system of linear equations dF_dx(xk) *dxk = -F(xk) in a loop\n",
    "    k=0\n",
    "    while True:\n",
    "        dx1 = np.linalg.solve(numerical_dF_dx(*x0), -numerical_F(*x0))\n",
    "        dx1 = np.squeeze(dx1)\n",
    "#         x1 = np.sum([x0, dx1], axis = 0)\n",
    "        x1 = x0+dx1\n",
    "#     Add value to history list\n",
    "        if history_save:\n",
    "            history.append(x1)\n",
    "        if np.linalg.norm(x1 - x0)<=tol:\n",
    "            print(f'k={k}: norm ||x_k+1 - x_k||<={tol}')\n",
    "            return x1 if not history_save else x1, history\n",
    "        k+=1\n",
    "        x0 = x1"
   ]
  },
  {
   "cell_type": "code",
   "execution_count": 112,
   "metadata": {},
   "outputs": [
    {
     "name": "stdout",
     "output_type": "stream",
     "text": [
      "k=3: norm ||x_k+1 - x_k||<=0.0001\n"
     ]
    },
    {
     "data": {
      "text/plain": [
       "(array([ 0.49123795, -0.7334613 ]),\n",
       " [array([ 0.4 , -0.75]),\n",
       "  array([ 0.5031025 , -0.73322862]),\n",
       "  array([ 0.49141694, -0.73344703]),\n",
       "  array([ 0.49123799, -0.7334613 ]),\n",
       "  array([ 0.49123795, -0.7334613 ])])"
      ]
     },
     "execution_count": 112,
     "metadata": {},
     "output_type": "execute_result"
    }
   ],
   "source": [
    "newton_solve(F, np.array([0.4, -0.75]), 0.0001, [x1, x2])"
   ]
  },
  {
   "cell_type": "code",
   "execution_count": null,
   "metadata": {},
   "outputs": [],
   "source": []
  }
 ],
 "metadata": {
  "kernelspec": {
   "display_name": "Python 3",
   "language": "python",
   "name": "python3"
  },
  "language_info": {
   "codemirror_mode": {
    "name": "ipython",
    "version": 3
   },
   "file_extension": ".py",
   "mimetype": "text/x-python",
   "name": "python",
   "nbconvert_exporter": "python",
   "pygments_lexer": "ipython3",
   "version": "3.8.1"
  }
 },
 "nbformat": 4,
 "nbformat_minor": 4
}
